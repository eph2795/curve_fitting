{
 "cells": [
  {
   "cell_type": "code",
   "execution_count": 1,
   "metadata": {},
   "outputs": [],
   "source": [
    "%load_ext autoreload\n",
    "%autoreload 2"
   ]
  },
  {
   "cell_type": "code",
   "execution_count": 2,
   "metadata": {},
   "outputs": [],
   "source": [
    "import pickle\n",
    "import json"
   ]
  },
  {
   "cell_type": "code",
   "execution_count": 3,
   "metadata": {},
   "outputs": [],
   "source": [
    "from collections import defaultdict"
   ]
  },
  {
   "cell_type": "code",
   "execution_count": 4,
   "metadata": {},
   "outputs": [],
   "source": [
    "import numpy as np\n",
    "from sklearn.metrics import pairwise_distances\n",
    "from sklearn.manifold import TSNE\n",
    "from sklearn.preprocessing import StandardScaler\n",
    "from sklearn.decomposition import PCA\n",
    "from sklearn.cluster import KMeans"
   ]
  },
  {
   "cell_type": "code",
   "execution_count": 5,
   "metadata": {},
   "outputs": [],
   "source": [
    "import matplotlib.pyplot as plt\n",
    "import seaborn as sns\n",
    "sns.set(\n",
    "    style='white', # стиль figure\n",
    "    font_scale=3, # размер шрифта\n",
    "    rc={\n",
    "#         'lines.linewidth': 3, # ширина линий\n",
    "        'text.usetex' : True # использовать tex\n",
    "    } \n",
    ")"
   ]
  },
  {
   "cell_type": "code",
   "execution_count": 6,
   "metadata": {},
   "outputs": [],
   "source": [
    "from visualization_utils import visualize"
   ]
  },
  {
   "cell_type": "code",
   "execution_count": 7,
   "metadata": {},
   "outputs": [],
   "source": [
    "with open('data_new.pkl', 'rb') as f:\n",
    "    results = pickle.load(f)"
   ]
  },
  {
   "cell_type": "code",
   "execution_count": 8,
   "metadata": {},
   "outputs": [],
   "source": [
    "with open('viz_data_new.pkl', 'rb') as f:\n",
    "    (X, Y) = pickle.load(f)"
   ]
  },
  {
   "cell_type": "code",
   "execution_count": 9,
   "metadata": {},
   "outputs": [
    {
     "data": {
      "text/plain": [
       "defaultdict(list,\n",
       "            {'S2': [0,\n",
       "              1,\n",
       "              2,\n",
       "              16,\n",
       "              17,\n",
       "              18,\n",
       "              32,\n",
       "              33,\n",
       "              34,\n",
       "              48,\n",
       "              49,\n",
       "              50,\n",
       "              64,\n",
       "              65,\n",
       "              66,\n",
       "              80,\n",
       "              81,\n",
       "              82,\n",
       "              96,\n",
       "              97,\n",
       "              98,\n",
       "              112,\n",
       "              113,\n",
       "              114,\n",
       "              128,\n",
       "              129,\n",
       "              130,\n",
       "              144,\n",
       "              145,\n",
       "              146,\n",
       "              160,\n",
       "              161,\n",
       "              162,\n",
       "              176,\n",
       "              177,\n",
       "              178,\n",
       "              192,\n",
       "              193,\n",
       "              194,\n",
       "              208,\n",
       "              209,\n",
       "              210,\n",
       "              224,\n",
       "              225,\n",
       "              226,\n",
       "              240,\n",
       "              241,\n",
       "              242],\n",
       "             'C2': [3,\n",
       "              4,\n",
       "              5,\n",
       "              19,\n",
       "              20,\n",
       "              21,\n",
       "              35,\n",
       "              36,\n",
       "              37,\n",
       "              51,\n",
       "              52,\n",
       "              53,\n",
       "              67,\n",
       "              68,\n",
       "              69,\n",
       "              83,\n",
       "              84,\n",
       "              85,\n",
       "              99,\n",
       "              100,\n",
       "              101,\n",
       "              115,\n",
       "              116,\n",
       "              117,\n",
       "              131,\n",
       "              132,\n",
       "              133,\n",
       "              147,\n",
       "              148,\n",
       "              149,\n",
       "              163,\n",
       "              164,\n",
       "              165,\n",
       "              179,\n",
       "              180,\n",
       "              181,\n",
       "              195,\n",
       "              196,\n",
       "              197,\n",
       "              211,\n",
       "              212,\n",
       "              213,\n",
       "              227,\n",
       "              228,\n",
       "              229,\n",
       "              243,\n",
       "              244,\n",
       "              245],\n",
       "             'SS2': [6,\n",
       "              7,\n",
       "              8,\n",
       "              22,\n",
       "              23,\n",
       "              24,\n",
       "              38,\n",
       "              39,\n",
       "              40,\n",
       "              54,\n",
       "              55,\n",
       "              56,\n",
       "              70,\n",
       "              71,\n",
       "              72,\n",
       "              86,\n",
       "              87,\n",
       "              88,\n",
       "              102,\n",
       "              103,\n",
       "              104,\n",
       "              118,\n",
       "              119,\n",
       "              120,\n",
       "              134,\n",
       "              135,\n",
       "              136,\n",
       "              150,\n",
       "              151,\n",
       "              152,\n",
       "              166,\n",
       "              167,\n",
       "              168,\n",
       "              182,\n",
       "              183,\n",
       "              184,\n",
       "              198,\n",
       "              199,\n",
       "              200,\n",
       "              214,\n",
       "              215,\n",
       "              216,\n",
       "              230,\n",
       "              231,\n",
       "              232,\n",
       "              246,\n",
       "              247,\n",
       "              248],\n",
       "             'L2': [9,\n",
       "              10,\n",
       "              11,\n",
       "              25,\n",
       "              26,\n",
       "              27,\n",
       "              41,\n",
       "              42,\n",
       "              43,\n",
       "              57,\n",
       "              58,\n",
       "              59,\n",
       "              73,\n",
       "              74,\n",
       "              75,\n",
       "              89,\n",
       "              90,\n",
       "              91,\n",
       "              105,\n",
       "              106,\n",
       "              107,\n",
       "              121,\n",
       "              122,\n",
       "              123,\n",
       "              137,\n",
       "              138,\n",
       "              139,\n",
       "              153,\n",
       "              154,\n",
       "              155,\n",
       "              169,\n",
       "              170,\n",
       "              171,\n",
       "              185,\n",
       "              186,\n",
       "              187,\n",
       "              201,\n",
       "              202,\n",
       "              203,\n",
       "              217,\n",
       "              218,\n",
       "              219,\n",
       "              233,\n",
       "              234,\n",
       "              235,\n",
       "              249,\n",
       "              250,\n",
       "              251],\n",
       "             'S': [12,\n",
       "              28,\n",
       "              44,\n",
       "              60,\n",
       "              76,\n",
       "              92,\n",
       "              108,\n",
       "              124,\n",
       "              140,\n",
       "              156,\n",
       "              172,\n",
       "              188,\n",
       "              204,\n",
       "              220,\n",
       "              236,\n",
       "              252],\n",
       "             'C': [13,\n",
       "              29,\n",
       "              45,\n",
       "              61,\n",
       "              77,\n",
       "              93,\n",
       "              109,\n",
       "              125,\n",
       "              141,\n",
       "              157,\n",
       "              173,\n",
       "              189,\n",
       "              205,\n",
       "              221,\n",
       "              237,\n",
       "              253],\n",
       "             'SS': [14,\n",
       "              30,\n",
       "              46,\n",
       "              62,\n",
       "              78,\n",
       "              94,\n",
       "              110,\n",
       "              126,\n",
       "              142,\n",
       "              158,\n",
       "              174,\n",
       "              190,\n",
       "              206,\n",
       "              222,\n",
       "              238,\n",
       "              254],\n",
       "             'L': [15,\n",
       "              31,\n",
       "              47,\n",
       "              63,\n",
       "              79,\n",
       "              95,\n",
       "              111,\n",
       "              127,\n",
       "              143,\n",
       "              159,\n",
       "              175,\n",
       "              191,\n",
       "              207,\n",
       "              223,\n",
       "              239,\n",
       "              255]})"
      ]
     },
     "execution_count": 9,
     "metadata": {},
     "output_type": "execute_result"
    }
   ],
   "source": [
    "classes = defaultdict(list)\n",
    "for i, y in enumerate(Y):\n",
    "    tag = y.split('_')[-1][:-1]\n",
    "    classes[tag].append(i)\n",
    "classes"
   ]
  },
  {
   "cell_type": "code",
   "execution_count": 10,
   "metadata": {},
   "outputs": [
    {
     "data": {
      "text/plain": [
       "{'C2X',\n",
       " 'C2Y',\n",
       " 'C2Z',\n",
       " 'L2X',\n",
       " 'L2Y',\n",
       " 'L2Z',\n",
       " 'S2X',\n",
       " 'S2Y',\n",
       " 'S2Z',\n",
       " 'SS2X',\n",
       " 'SS2Y',\n",
       " 'SS2Z'}"
      ]
     },
     "execution_count": 10,
     "metadata": {},
     "output_type": "execute_result"
    }
   ],
   "source": [
    "func_dirs = set([r['tag'] for r in results if r['tag'][-1] in ['X', 'Y', 'Z']])\n",
    "func_dirs"
   ]
  },
  {
   "cell_type": "code",
   "execution_count": 11,
   "metadata": {},
   "outputs": [
    {
     "data": {
      "text/plain": [
       "{'C2', 'L2', 'S2', 'SS2'}"
      ]
     },
     "execution_count": 11,
     "metadata": {},
     "output_type": "execute_result"
    }
   ],
   "source": [
    "funcs = set([r['tag'][:-1] for r in results if r['tag'][-1] in ['X', 'Y', 'Z']])\n",
    "funcs"
   ]
  },
  {
   "cell_type": "code",
   "execution_count": 12,
   "metadata": {},
   "outputs": [],
   "source": [
    "def make_data(results):\n",
    "    X, X_f, Y = [], [], []\n",
    "    for r in results:\n",
    "        X.append(np.array(r['x']).reshape(1, -1))\n",
    "        X_f.append(np.array(r['exp_data']).reshape(1, -1))\n",
    "        Y.append(r['dir_name'] + ' ' + r['tag'])\n",
    "    X = np.concatenate(X, axis=0)\n",
    "    X_f = np.concatenate(X_f, axis=0)\n",
    "    return X, X_f, Y"
   ]
  },
  {
   "cell_type": "code",
   "execution_count": 13,
   "metadata": {},
   "outputs": [],
   "source": [
    "def enumerate_stacks(Y):\n",
    "    unique_labels = set([y.split(' ')[0] for y in Y])\n",
    "    labels_map = {item: i + 1  for i, item in enumerate(sorted(unique_labels))}\n",
    "    labels = []\n",
    "    for y in Y:\n",
    "        if ' ' not in y:\n",
    "            stack, tag = y, ''\n",
    "        else:\n",
    "            stack, tag = y.split(' ', 1)\n",
    "        labels.append('{stack} {tag}'.format(stack=labels_map[stack], tag=tag))\n",
    "    return labels"
   ]
  },
  {
   "cell_type": "code",
   "execution_count": 14,
   "metadata": {},
   "outputs": [],
   "source": [
    "from functools import cmp_to_key\n",
    "\n",
    "def order_stacks(X, X_f, Y):\n",
    "    def cmp(a, b):\n",
    "        a = a[-1]\n",
    "        b = b[-1]\n",
    "        a, aa = a.split(' ', 1)\n",
    "        a = int(a)\n",
    "        b, bb = b.split(' ', 1)\n",
    "        b = int(b)\n",
    "        if (a > b) or ((a == a) and (aa > bb)):\n",
    "            return 1\n",
    "        elif (a == b) and (aa == bb):\n",
    "            return 0\n",
    "        else:\n",
    "            return -1\n",
    "        \n",
    "    new_X, new_X_f, new_Y = [], [], []\n",
    "    for x, x_f, y in sorted(zip(X, X_f, Y), key=cmp_to_key(cmp)):\n",
    "#         print(x.shape)\n",
    "        new_X.append(x.reshape(1, -1))\n",
    "        new_X_f.append(x_f.reshape(1, -1))\n",
    "        new_Y.append(y)\n",
    "    return np.concatenate(new_X, axis=0), np.concatenate(new_X_f, axis=0), new_Y"
   ]
  },
  {
   "cell_type": "code",
   "execution_count": 15,
   "metadata": {},
   "outputs": [],
   "source": [
    "import scipy as sp"
   ]
  },
  {
   "cell_type": "code",
   "execution_count": 16,
   "metadata": {},
   "outputs": [],
   "source": [
    "import PIL"
   ]
  },
  {
   "cell_type": "code",
   "execution_count": 17,
   "metadata": {},
   "outputs": [],
   "source": [
    "import scipy.misc"
   ]
  },
  {
   "cell_type": "code",
   "execution_count": 18,
   "metadata": {},
   "outputs": [],
   "source": [
    "import os"
   ]
  },
  {
   "cell_type": "code",
   "execution_count": 19,
   "metadata": {},
   "outputs": [],
   "source": [
    "files = os.listdir('CFs/1/results')"
   ]
  },
  {
   "cell_type": "code",
   "execution_count": 20,
   "metadata": {},
   "outputs": [],
   "source": [
    "tag = 'L2'"
   ]
  },
  {
   "cell_type": "code",
   "execution_count": 21,
   "metadata": {},
   "outputs": [],
   "source": [
    "filtered_images = []\n",
    "for image in files:\n",
    "    name, ext = os.path.splitext(image)\n",
    "    if (tag in name) and (ext == '.png'):\n",
    "        filtered_images.append(image)"
   ]
  },
  {
   "cell_type": "code",
   "execution_count": 22,
   "metadata": {},
   "outputs": [
    {
     "data": {
      "text/plain": [
       "'.png'"
      ]
     },
     "execution_count": 22,
     "metadata": {},
     "output_type": "execute_result"
    }
   ],
   "source": [
    "ext"
   ]
  },
  {
   "cell_type": "code",
   "execution_count": 23,
   "metadata": {},
   "outputs": [],
   "source": [
    "import matplotlib.image as mpimg\n",
    "\n",
    "img=mpimg.imread('CFs/1/results/L2X.png')"
   ]
  },
  {
   "cell_type": "code",
   "execution_count": 24,
   "metadata": {},
   "outputs": [
    {
     "data": {
      "text/plain": [
       "(4000, 4000, 4)"
      ]
     },
     "execution_count": 24,
     "metadata": {},
     "output_type": "execute_result"
    }
   ],
   "source": [
    "img.shape"
   ]
  },
  {
   "cell_type": "code",
   "execution_count": 25,
   "metadata": {},
   "outputs": [
    {
     "data": {
      "text/plain": [
       "Text(0.5, 1.0, 'gs[-1, -2]')"
      ]
     },
     "execution_count": 25,
     "metadata": {},
     "output_type": "execute_result"
    },
    {
     "data": {
      "image/png": "[encoded data removed]",
      "text/plain": [
       "<Figure size 1440x1440 with 5 Axes>"
      ]
     },
     "metadata": {
      "needs_background": "light"
     },
     "output_type": "display_data"
    }
   ],
   "source": [
    "fig3 = plt.figure(constrained_layout=True, figsize=(20, 20))\n",
    "gs = fig3.add_gridspec(4, 2)\n",
    "f3_ax1 = fig3.add_subplot(gs[0, :])\n",
    "f3_ax1.set_title('gs[0, :]')\n",
    "f3_ax2 = fig3.add_subplot(gs[1, :-1])\n",
    "f3_ax2.set_title('gs[1, :-1]')\n",
    "f3_ax3 = fig3.add_subplot(gs[1:, -1])\n",
    "f3_ax3.set_title('gs[1:, -1]')\n",
    "f3_ax4 = fig3.add_subplot(gs[-1, 0])\n",
    "f3_ax4.set_title('gs[-1, 0]')\n",
    "f3_ax4.imshow(img)\n",
    "f3_ax5 = fig3.add_subplot(gs[-1, -2])\n",
    "f3_ax5.set_title('gs[-1, -2]')"
   ]
  },
  {
   "cell_type": "code",
   "execution_count": null,
   "metadata": {},
   "outputs": [],
   "source": []
  },
  {
   "cell_type": "code",
   "execution_count": null,
   "metadata": {},
   "outputs": [],
   "source": []
  }
 ],
 "metadata": {
  "kernelspec": {
   "display_name": "Python 3",
   "language": "python",
   "name": "python3"
  },
  "language_info": {
   "codemirror_mode": {
    "name": "ipython",
    "version": 3
   },
   "file_extension": ".py",
   "mimetype": "text/x-python",
   "name": "python",
   "nbconvert_exporter": "python",
   "pygments_lexer": "ipython3",
   "version": "3.6.9"
  }
 },
 "nbformat": 4,
 "nbformat_minor": 2
}
