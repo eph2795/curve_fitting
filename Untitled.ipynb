{
 "cells": [
  {
   "cell_type": "code",
   "execution_count": 435,
   "metadata": {},
   "outputs": [],
   "source": [
    "from scipy.optimize import Bounds\n",
    "from scipy.optimize import minimize"
   ]
  },
  {
   "cell_type": "code",
   "execution_count": 622,
   "metadata": {},
   "outputs": [],
   "source": [
    "data_path = 'sandstoneCFs/406/{}'"
   ]
  },
  {
   "cell_type": "code",
   "execution_count": 624,
   "metadata": {},
   "outputs": [],
   "source": [
    "with open(data_path.format('CorrFunc.txt'), 'r') as f:\n",
    "    lines = f.readlines()"
   ]
  },
  {
   "cell_type": "code",
   "execution_count": 628,
   "metadata": {},
   "outputs": [],
   "source": [
    "data = dict()\n",
    "for line in lines[1:]:\n",
    "    vals = line.split()\n",
    "    data[vals[0]] = [float(v) for v in vals[1:]]"
   ]
  },
  {
   "cell_type": "code",
   "execution_count": 630,
   "metadata": {},
   "outputs": [
    {
     "data": {
      "text/plain": [
       "dict_keys(['s2X', 's2Y', 's2Z', 'l2X', 'l2Y', 'l2Z', 'l2XWhite', 'l2YWhite', 'l2ZWhite', 's2X_PBC', 's2Y_PBC', 's2Z_PBC', 'l2X_PBC', 'l2Y_PBC', 'l2Z_PBC', 'l2XWhite_PBC', 'l2YWhite_PBC', 'l2ZWhite_PBC', 'c2X', 'c2Y', 'c2Z', 'c2X_PBC', 'c2Y_PBC', 'c2Z_PBC'])"
      ]
     },
     "execution_count": 630,
     "metadata": {},
     "output_type": "execute_result"
    }
   ],
   "source": [
    "data.keys()"
   ]
  },
  {
   "cell_type": "code",
   "execution_count": 641,
   "metadata": {},
   "outputs": [],
   "source": [
    "exp_data = np.array(data['s2X'])\n",
    "phi = exp_data[0]\n",
    "exp_data = (exp_data - phi ** 2) / (phi - phi ** 2)\n",
    "# exp_data = exp_data / phi\n",
    "def f(x):\n",
    "    return np.square(f_param(x) - exp_data).sum()"
   ]
  },
  {
   "cell_type": "code",
   "execution_count": 648,
   "metadata": {},
   "outputs": [
    {
     "name": "stdout",
     "output_type": "stream",
     "text": [
      "Optimization terminated successfully.    (Exit mode 0)\n",
      "            Current function value: 0.0013247455928751064\n",
      "            Iterations: 16\n",
      "            Function evaluations: 163\n",
      "            Gradient evaluations: 16\n",
      "[0.         1.         0.         0.04869662 4.01592929 0.14431495\n",
      " 0.         0.92434218]\n",
      "0.0013247455928751064\n",
      "0.04869662426718543\n",
      "4.0159292869495875 0.14431494891641328 0.0\n",
      "0.924342184126765\n",
      "0.0 1.0 0.0\n"
     ]
    }
   ],
   "source": [
    "def f_param(x):\n",
    "    a1, a2, a3, a, b, q, psi, c = x\n",
    "    r = np.arange(0, 300, dtype=np.float64)\n",
    "    f1 = np.exp(-r/a)\n",
    "    f2 = np.exp(-r/b) * np.cos(q * r + psi)\n",
    "    f3 = np.where(r <= c, np.square(1 - r / c), 0)\n",
    "    f_all = a1 * f1 + a2 * f2 + a3 * f3\n",
    "    return f_all\n",
    "\n",
    "bounds = Bounds(\n",
    "    np.array([0, 0, 0, 0, 0, 0, 0, 0], dtype=np.float64), \n",
    "    np.array([np.inf, np.inf, np.inf, np.inf, np.inf, np.inf, 2 * np.pi, np.inf], dtype=np.float64))\n",
    "\n",
    "eq_cons = {\n",
    "    'type': 'eq',\n",
    "    'fun': lambda x: np.array([x[0] + x[1] + x[2] - 1]),\n",
    "    'jac': lambda x: np.array([1.0, 1.0, 1.0, 0, 0, 0, 0, 0])\n",
    "}\n",
    "\n",
    "x = np.random.rand(8)\n",
    "x[6] = x[6] if x[6] < 2 * np.pi else 2 * np.pi\n",
    "x[0:3] = x[0:3] / x[0:3].sum()\n",
    "res = minimize(f, x, options={'ftol': 1e-9, 'disp': True},\n",
    "               method='SLSQP',\n",
    "               constraints=[eq_cons],\n",
    "               bounds=bounds)\n",
    "a1, a2, a3, a, b, q, psi, c = res.x\n",
    "print(res.x)\n",
    "print(f(res.x))\n",
    "print(a)\n",
    "print(b, q, psi)\n",
    "print(c)\n",
    "print(a1, a2, a3)"
   ]
  },
  {
   "cell_type": "code",
   "execution_count": 646,
   "metadata": {},
   "outputs": [
    {
     "ename": "ValueError",
     "evalue": "operands could not be broadcast together with shapes (250,) (300,) ",
     "output_type": "error",
     "traceback": [
      "\u001b[0;31m---------------------------------------------------------------------------\u001b[0m",
      "\u001b[0;31mValueError\u001b[0m                                Traceback (most recent call last)",
      "\u001b[0;32m<ipython-input-646-9d5650d09bc0>\u001b[0m in \u001b[0;36m<module>\u001b[0;34m\u001b[0m\n\u001b[1;32m     22\u001b[0m                \u001b[0mmethod\u001b[0m\u001b[0;34m=\u001b[0m\u001b[0;34m'SLSQP'\u001b[0m\u001b[0;34m,\u001b[0m\u001b[0;34m\u001b[0m\u001b[0;34m\u001b[0m\u001b[0m\n\u001b[1;32m     23\u001b[0m                \u001b[0mconstraints\u001b[0m\u001b[0;34m=\u001b[0m\u001b[0;34m[\u001b[0m\u001b[0meq_cons\u001b[0m\u001b[0;34m]\u001b[0m\u001b[0;34m,\u001b[0m\u001b[0;34m\u001b[0m\u001b[0;34m\u001b[0m\u001b[0m\n\u001b[0;32m---> 24\u001b[0;31m                bounds=bounds)\n\u001b[0m\u001b[1;32m     25\u001b[0m \u001b[0ma1\u001b[0m\u001b[0;34m,\u001b[0m \u001b[0ma3\u001b[0m\u001b[0;34m,\u001b[0m \u001b[0ma\u001b[0m\u001b[0;34m,\u001b[0m \u001b[0mc\u001b[0m \u001b[0;34m=\u001b[0m \u001b[0mres\u001b[0m\u001b[0;34m.\u001b[0m\u001b[0mx\u001b[0m\u001b[0;34m\u001b[0m\u001b[0;34m\u001b[0m\u001b[0m\n\u001b[1;32m     26\u001b[0m \u001b[0mprint\u001b[0m\u001b[0;34m(\u001b[0m\u001b[0mres\u001b[0m\u001b[0;34m.\u001b[0m\u001b[0mx\u001b[0m\u001b[0;34m)\u001b[0m\u001b[0;34m\u001b[0m\u001b[0;34m\u001b[0m\u001b[0m\n",
      "\u001b[0;32m/usr/local/lib/python3.6/dist-packages/scipy/optimize/_minimize.py\u001b[0m in \u001b[0;36mminimize\u001b[0;34m(fun, x0, args, method, jac, hess, hessp, bounds, constraints, tol, callback, options)\u001b[0m\n\u001b[1;32m    606\u001b[0m     \u001b[0;32melif\u001b[0m \u001b[0mmeth\u001b[0m \u001b[0;34m==\u001b[0m \u001b[0;34m'slsqp'\u001b[0m\u001b[0;34m:\u001b[0m\u001b[0;34m\u001b[0m\u001b[0;34m\u001b[0m\u001b[0m\n\u001b[1;32m    607\u001b[0m         return _minimize_slsqp(fun, x0, args, jac, bounds,\n\u001b[0;32m--> 608\u001b[0;31m                                constraints, callback=callback, **options)\n\u001b[0m\u001b[1;32m    609\u001b[0m     \u001b[0;32melif\u001b[0m \u001b[0mmeth\u001b[0m \u001b[0;34m==\u001b[0m \u001b[0;34m'trust-constr'\u001b[0m\u001b[0;34m:\u001b[0m\u001b[0;34m\u001b[0m\u001b[0;34m\u001b[0m\u001b[0m\n\u001b[1;32m    610\u001b[0m         return _minimize_trustregion_constr(fun, x0, args, jac, hess, hessp,\n",
      "\u001b[0;32m/usr/local/lib/python3.6/dist-packages/scipy/optimize/slsqp.py\u001b[0m in \u001b[0;36m_minimize_slsqp\u001b[0;34m(func, x0, args, jac, bounds, constraints, maxiter, ftol, iprint, disp, eps, callback, **unknown_options)\u001b[0m\n\u001b[1;32m    397\u001b[0m \u001b[0;34m\u001b[0m\u001b[0m\n\u001b[1;32m    398\u001b[0m             \u001b[0;31m# Compute objective function\u001b[0m\u001b[0;34m\u001b[0m\u001b[0;34m\u001b[0m\u001b[0;34m\u001b[0m\u001b[0m\n\u001b[0;32m--> 399\u001b[0;31m             \u001b[0mfx\u001b[0m \u001b[0;34m=\u001b[0m \u001b[0mfunc\u001b[0m\u001b[0;34m(\u001b[0m\u001b[0mx\u001b[0m\u001b[0;34m)\u001b[0m\u001b[0;34m\u001b[0m\u001b[0;34m\u001b[0m\u001b[0m\n\u001b[0m\u001b[1;32m    400\u001b[0m             \u001b[0;32mtry\u001b[0m\u001b[0;34m:\u001b[0m\u001b[0;34m\u001b[0m\u001b[0;34m\u001b[0m\u001b[0m\n\u001b[1;32m    401\u001b[0m                 \u001b[0mfx\u001b[0m \u001b[0;34m=\u001b[0m \u001b[0mfloat\u001b[0m\u001b[0;34m(\u001b[0m\u001b[0mnp\u001b[0m\u001b[0;34m.\u001b[0m\u001b[0masarray\u001b[0m\u001b[0;34m(\u001b[0m\u001b[0mfx\u001b[0m\u001b[0;34m)\u001b[0m\u001b[0;34m)\u001b[0m\u001b[0;34m\u001b[0m\u001b[0;34m\u001b[0m\u001b[0m\n",
      "\u001b[0;32m/usr/local/lib/python3.6/dist-packages/scipy/optimize/optimize.py\u001b[0m in \u001b[0;36mfunction_wrapper\u001b[0;34m(*wrapper_args)\u001b[0m\n\u001b[1;32m    324\u001b[0m     \u001b[0;32mdef\u001b[0m \u001b[0mfunction_wrapper\u001b[0m\u001b[0;34m(\u001b[0m\u001b[0;34m*\u001b[0m\u001b[0mwrapper_args\u001b[0m\u001b[0;34m)\u001b[0m\u001b[0;34m:\u001b[0m\u001b[0;34m\u001b[0m\u001b[0;34m\u001b[0m\u001b[0m\n\u001b[1;32m    325\u001b[0m         \u001b[0mncalls\u001b[0m\u001b[0;34m[\u001b[0m\u001b[0;36m0\u001b[0m\u001b[0;34m]\u001b[0m \u001b[0;34m+=\u001b[0m \u001b[0;36m1\u001b[0m\u001b[0;34m\u001b[0m\u001b[0;34m\u001b[0m\u001b[0m\n\u001b[0;32m--> 326\u001b[0;31m         \u001b[0;32mreturn\u001b[0m \u001b[0mfunction\u001b[0m\u001b[0;34m(\u001b[0m\u001b[0;34m*\u001b[0m\u001b[0;34m(\u001b[0m\u001b[0mwrapper_args\u001b[0m \u001b[0;34m+\u001b[0m \u001b[0margs\u001b[0m\u001b[0;34m)\u001b[0m\u001b[0;34m)\u001b[0m\u001b[0;34m\u001b[0m\u001b[0;34m\u001b[0m\u001b[0m\n\u001b[0m\u001b[1;32m    327\u001b[0m \u001b[0;34m\u001b[0m\u001b[0m\n\u001b[1;32m    328\u001b[0m     \u001b[0;32mreturn\u001b[0m \u001b[0mncalls\u001b[0m\u001b[0;34m,\u001b[0m \u001b[0mfunction_wrapper\u001b[0m\u001b[0;34m\u001b[0m\u001b[0;34m\u001b[0m\u001b[0m\n",
      "\u001b[0;32m<ipython-input-641-176713c7bc8b>\u001b[0m in \u001b[0;36mf\u001b[0;34m(x)\u001b[0m\n\u001b[1;32m      4\u001b[0m \u001b[0;31m# exp_data = exp_data / phi\u001b[0m\u001b[0;34m\u001b[0m\u001b[0;34m\u001b[0m\u001b[0;34m\u001b[0m\u001b[0m\n\u001b[1;32m      5\u001b[0m \u001b[0;32mdef\u001b[0m \u001b[0mf\u001b[0m\u001b[0;34m(\u001b[0m\u001b[0mx\u001b[0m\u001b[0;34m)\u001b[0m\u001b[0;34m:\u001b[0m\u001b[0;34m\u001b[0m\u001b[0;34m\u001b[0m\u001b[0m\n\u001b[0;32m----> 6\u001b[0;31m     \u001b[0;32mreturn\u001b[0m \u001b[0mnp\u001b[0m\u001b[0;34m.\u001b[0m\u001b[0msquare\u001b[0m\u001b[0;34m(\u001b[0m\u001b[0mf_param\u001b[0m\u001b[0;34m(\u001b[0m\u001b[0mx\u001b[0m\u001b[0;34m)\u001b[0m \u001b[0;34m-\u001b[0m \u001b[0mexp_data\u001b[0m\u001b[0;34m)\u001b[0m\u001b[0;34m.\u001b[0m\u001b[0msum\u001b[0m\u001b[0;34m(\u001b[0m\u001b[0;34m)\u001b[0m\u001b[0;34m\u001b[0m\u001b[0;34m\u001b[0m\u001b[0m\n\u001b[0m",
      "\u001b[0;31mValueError\u001b[0m: operands could not be broadcast together with shapes (250,) (300,) "
     ]
    }
   ],
   "source": [
    "def f_param(x):\n",
    "    a1, a3, a, c = x\n",
    "    r = np.arange(0, 250, dtype=np.float64)\n",
    "    f1 = np.exp(-r/a)\n",
    "    f3 = np.where(r <= c, np.square(1 - r / c), 0)\n",
    "    f_all = a1 * f1 + a3 * f3\n",
    "    return f_all\n",
    "\n",
    "bounds = Bounds(\n",
    "    np.array([0, 0, 0, 0], dtype=np.float64), \n",
    "    np.array([np.inf, np.inf, np.inf, np.inf], dtype=np.float64))\n",
    "\n",
    "eq_cons = {\n",
    "    'type': 'eq',\n",
    "    'fun': lambda x: np.array([x[0] + x[1] - 1]),\n",
    "    'jac': lambda x: np.array([1.0, 1.0, 0, 0])\n",
    "}\n",
    "\n",
    "x = np.random.rand(4)\n",
    "# x[0:2] = x[0:2] / x[0:2].sum()\n",
    "res = minimize(f, x, options={'ftol': 1e-9, 'disp': True},\n",
    "               method='SLSQP',\n",
    "               constraints=[eq_cons],\n",
    "               bounds=bounds)\n",
    "a1, a3, a, c = res.x\n",
    "print(res.x)\n",
    "print(f(res.x))\n",
    "print(a, c, a1, a3)"
   ]
  },
  {
   "cell_type": "code",
   "execution_count": 528,
   "metadata": {},
   "outputs": [
    {
     "name": "stdout",
     "output_type": "stream",
     "text": [
      "Optimization terminated successfully.    (Exit mode 0)\n",
      "            Current function value: 1.1017053614773318\n",
      "            Iterations: 38\n",
      "            Function evaluations: 311\n",
      "            Gradient evaluations: 38\n",
      "[5.03335945e-01 4.96664055e-01 5.70649790e+01 0.00000000e+00\n",
      " 1.04886565e-02 5.65217446e-01]\n",
      "1.1017053614773318\n",
      "57.064978975523694 0.5652174460916652 0.0\n"
     ]
    }
   ],
   "source": [
    "def f_param(x):\n",
    "    a2, a3, b, q, psi, c = x\n",
    "    r = np.arange(0, 250, dtype=np.float64)\n",
    "    f2 = np.exp(-r/b) * np.cos(q * r + psi)\n",
    "    f3 = np.where(r <= c, np.square(1 - r / c), 0)\n",
    "    f_all = a2 * f2 + a3 * f3\n",
    "    return f_all\n",
    "\n",
    "bounds = Bounds(\n",
    "    np.array([0, 0, 0, 0, 0, 0], dtype=np.float64), \n",
    "    np.array([np.inf, np.inf, np.inf, np.inf, 2 * np.pi, np.inf], dtype=np.float64))\n",
    "\n",
    "eq_cons = {\n",
    "    'type': 'eq',\n",
    "    'fun': lambda x: np.array([x[0] + x[1] - 1]),\n",
    "    'jac': lambda x: np.array([1.0, 1.0, 0, 0, 0, 0])\n",
    "}\n",
    "\n",
    "x = np.random.rand(6)\n",
    "x[4] = x[4] if x[4] < 2 * np.pi else 2 * np.pi\n",
    "x[0:2] = x[0:2] / x[0:2].sum()\n",
    "res = minimize(f, x, options={'ftol': 1e-9, 'disp': True},\n",
    "               method='SLSQP',\n",
    "               constraints=[eq_cons],\n",
    "               bounds=bounds)\n",
    "a2, a3, b, q, psi, c = res.x\n",
    "print(res.x)\n",
    "print(f(res.x))\n",
    "print(b, c, q)"
   ]
  },
  {
   "cell_type": "code",
   "execution_count": 489,
   "metadata": {},
   "outputs": [],
   "source": [
    "a1, a3, a, c = res.x\n",
    "r = np.arange(0, 250, dtype=np.float64)\n",
    "f1 = np.exp(-r/a)\n",
    "f2 = np.exp(-r/b) * np.cos(q * r + psi)\n",
    "f3 = np.where(r <= c, np.square(1 - r / c), 0)\n",
    "f_all = a1 * f1 + a2 * f2 + a3 * f3"
   ]
  },
  {
   "cell_type": "code",
   "execution_count": 562,
   "metadata": {},
   "outputs": [
    {
     "data": {
      "text/plain": [
       "dict_keys(['S2X', 'S2Y', 'S2Z', 'C2X', 'C2Y', 'C2Z', 'SS2X', 'SS2Y', 'SS2Z', 'L2X', 'L2Y', 'L2Z'])"
      ]
     },
     "execution_count": 562,
     "metadata": {},
     "output_type": "execute_result"
    }
   ],
   "source": [
    "data.keys()"
   ]
  },
  {
   "cell_type": "code",
   "execution_count": 529,
   "metadata": {},
   "outputs": [
    {
     "data": {
      "text/plain": [
       "array([5.03335945e-01, 4.96664055e-01, 5.70649790e+01, 0.00000000e+00,\n",
       "       1.04886565e-02, 5.65217446e-01])"
      ]
     },
     "execution_count": 529,
     "metadata": {},
     "output_type": "execute_result"
    }
   ],
   "source": [
    "res.x"
   ]
  },
  {
   "cell_type": "code",
   "execution_count": 530,
   "metadata": {},
   "outputs": [
    {
     "data": {
      "text/plain": [
       "(0.0, 0.010488656502601902)"
      ]
     },
     "execution_count": 530,
     "metadata": {},
     "output_type": "execute_result"
    }
   ],
   "source": [
    "q, psi"
   ]
  },
  {
   "cell_type": "code",
   "execution_count": 531,
   "metadata": {},
   "outputs": [],
   "source": [
    "import numpy as np"
   ]
  },
  {
   "cell_type": "code",
   "execution_count": 532,
   "metadata": {},
   "outputs": [],
   "source": [
    "import matplotlib.pyplot as plt"
   ]
  },
  {
   "cell_type": "code",
   "execution_count": 620,
   "metadata": {},
   "outputs": [],
   "source": [
    "# z = data['S2Y']\n"
   ]
  },
  {
   "cell_type": "code",
   "execution_count": 651,
   "metadata": {},
   "outputs": [
    {
     "data": {
      "image/png": "[encoded data removed]",
      "text/plain": [
       "<Figure size 720x720 with 1 Axes>"
      ]
     },
     "metadata": {
      "needs_background": "light"
     },
     "output_type": "display_data"
    }
   ],
   "source": [
    "y = f_param(res.x)\n",
    "r = np.arange(0, 300)\n",
    "d = exp_data\n",
    "\n",
    "plt.figure(figsize=(10, 10))\n",
    "plt.plot(r, d, label='Data')\n",
    "# plt.plot(r, z, label='Data S2')\n",
    "plt.plot(r, y, label='Fitted')\n",
    "plt.legend(loc='best')\n",
    "plt.ylim([-0.1, 1])\n",
    "plt.xlim([0, 250])\n",
    "plt.show()"
   ]
  },
  {
   "cell_type": "code",
   "execution_count": null,
   "metadata": {},
   "outputs": [],
   "source": []
  },
  {
   "cell_type": "code",
   "execution_count": 591,
   "metadata": {},
   "outputs": [
    {
     "name": "stdout",
     "output_type": "stream",
     "text": [
      "Optimization terminated successfully.    (Exit mode 0)\n",
      "            Current function value: 0.5515663217986249\n",
      "            Iterations: 36\n",
      "            Function evaluations: 294\n",
      "            Gradient evaluations: 36\n",
      "[3.05078327e-01 6.94921673e-01 2.78429927e-02 2.50111614e+01\n",
      " 1.28723334e-07 8.48853549e-03]\n",
      "0.5515663217986249\n",
      "0.027842992663416277\n",
      "25.011161378470703 1.2872333392919686e-07 0.008488535485205857\n",
      "0.4903707755141228\n",
      "0.3050783267395357 0.6949216732604643 0.05585290680702328\n"
     ]
    }
   ],
   "source": [
    "def f_param(x):\n",
    "    a1, a2, a, b, q, psi = x\n",
    "    r = np.arange(0, 250, dtype=np.float64)\n",
    "    f1 = np.exp(-r/a)\n",
    "    f2 = np.exp(-r/b) * np.cos(q * r + psi)\n",
    "    f_all = a1 * f1 + a2 * f2\n",
    "    return f_all\n",
    "\n",
    "bounds = Bounds(\n",
    "    np.array([0, 0, 0, 0, 0, 0], dtype=np.float64), \n",
    "    np.array([np.inf, np.inf, np.inf, np.inf, np.inf, 2 * np.pi], dtype=np.float64))\n",
    "\n",
    "eq_cons = {\n",
    "    'type': 'eq',\n",
    "    'fun': lambda x: np.array([x[0] + x[1] - 1]),\n",
    "    'jac': lambda x: np.array([1.0, 1.0, 0, 0, 0, 0])\n",
    "}\n",
    "\n",
    "x = np.random.rand(6)\n",
    "x[5] = x[5] if x[5] < 2 * np.pi else 2 * np.pi\n",
    "x[0:2] = x[0:2] / x[0:2].sum()\n",
    "res = minimize(f, x, options={'ftol': 1e-9, 'disp': True},\n",
    "               method='SLSQP',\n",
    "               constraints=[eq_cons],\n",
    "               bounds=bounds)\n",
    "a1, a2, a, b, q, psi = res.x\n",
    "print(res.x)\n",
    "print(f(res.x))\n",
    "print(a)\n",
    "print(b, q, psi)\n",
    "print(c)\n",
    "print(a1, a2, a3)"
   ]
  },
  {
   "cell_type": "code",
   "execution_count": 583,
   "metadata": {},
   "outputs": [
    {
     "data": {
      "image/png": "[encoded data removed]",
      "text/plain": [
       "<Figure size 720x720 with 1 Axes>"
      ]
     },
     "metadata": {
      "needs_background": "light"
     },
     "output_type": "display_data"
    }
   ],
   "source": [
    "plt.figure(figsize=(10, 10))\n",
    "plt.plot(r, d, label='Data')\n",
    "# plt.plot(r, z, label='Data S2')\n",
    "plt.plot(r, y, label='Fitted')\n",
    "plt.legend(loc='best')\n",
    "plt.show()"
   ]
  }
 ],
 "metadata": {
  "kernelspec": {
   "display_name": "Python 3",
   "language": "python",
   "name": "python3"
  },
  "language_info": {
   "codemirror_mode": {
    "name": "ipython",
    "version": 3
   },
   "file_extension": ".py",
   "mimetype": "text/x-python",
   "name": "python",
   "nbconvert_exporter": "python",
   "pygments_lexer": "ipython3",
   "version": "3.6.8"
  }
 },
 "nbformat": 4,
 "nbformat_minor": 2
}
