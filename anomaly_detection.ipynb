{
 "cells": [
  {
   "cell_type": "code",
   "execution_count": 1,
   "metadata": {},
   "outputs": [],
   "source": [
    "%load_ext autoreload\n",
    "%autoreload 2"
   ]
  },
  {
   "cell_type": "code",
   "execution_count": 2,
   "metadata": {},
   "outputs": [],
   "source": [
    "import pickle\n",
    "import json"
   ]
  },
  {
   "cell_type": "code",
   "execution_count": 3,
   "metadata": {},
   "outputs": [],
   "source": [
    "from collections import defaultdict"
   ]
  },
  {
   "cell_type": "code",
   "execution_count": 4,
   "metadata": {},
   "outputs": [],
   "source": [
    "import numpy as np\n",
    "from sklearn.metrics import pairwise_distances\n",
    "from sklearn.manifold import TSNE\n",
    "from sklearn.preprocessing import StandardScaler\n",
    "from sklearn.decomposition import PCA\n",
    "from sklearn.cluster import KMeans"
   ]
  },
  {
   "cell_type": "code",
   "execution_count": 5,
   "metadata": {},
   "outputs": [],
   "source": [
    "import matplotlib.pyplot as plt\n",
    "import seaborn as sns\n",
    "sns.set(\n",
    "    style='whitegrid', # стиль figure\n",
    "#     font_scale=3, # размер шрифта\n",
    "    rc={\n",
    "#         'lines.linewidth': 3, # ширина линий\n",
    "        'text.usetex' : True # использовать tex\n",
    "    } \n",
    ")"
   ]
  },
  {
   "cell_type": "code",
   "execution_count": 6,
   "metadata": {},
   "outputs": [],
   "source": [
    "from visualization_utils import visualize"
   ]
  },
  {
   "cell_type": "code",
   "execution_count": 7,
   "metadata": {},
   "outputs": [],
   "source": [
    "with open('data_new.pkl', 'rb') as f:\n",
    "    results = pickle.load(f)"
   ]
  },
  {
   "cell_type": "code",
   "execution_count": 8,
   "metadata": {},
   "outputs": [],
   "source": [
    "with open('viz_data_new.pkl', 'rb') as f:\n",
    "    (X, Y) = pickle.load(f)"
   ]
  },
  {
   "cell_type": "code",
   "execution_count": 9,
   "metadata": {},
   "outputs": [
    {
     "data": {
      "text/plain": [
       "defaultdict(list,\n",
       "            {'S2': [0,\n",
       "              1,\n",
       "              2,\n",
       "              16,\n",
       "              17,\n",
       "              18,\n",
       "              32,\n",
       "              33,\n",
       "              34,\n",
       "              48,\n",
       "              49,\n",
       "              50,\n",
       "              64,\n",
       "              65,\n",
       "              66,\n",
       "              80,\n",
       "              81,\n",
       "              82,\n",
       "              96,\n",
       "              97,\n",
       "              98,\n",
       "              112,\n",
       "              113,\n",
       "              114,\n",
       "              128,\n",
       "              129,\n",
       "              130,\n",
       "              144,\n",
       "              145,\n",
       "              146,\n",
       "              160,\n",
       "              161,\n",
       "              162,\n",
       "              176,\n",
       "              177,\n",
       "              178,\n",
       "              192,\n",
       "              193,\n",
       "              194,\n",
       "              208,\n",
       "              209,\n",
       "              210,\n",
       "              224,\n",
       "              225,\n",
       "              226,\n",
       "              240,\n",
       "              241,\n",
       "              242],\n",
       "             'C2': [3,\n",
       "              4,\n",
       "              5,\n",
       "              19,\n",
       "              20,\n",
       "              21,\n",
       "              35,\n",
       "              36,\n",
       "              37,\n",
       "              51,\n",
       "              52,\n",
       "              53,\n",
       "              67,\n",
       "              68,\n",
       "              69,\n",
       "              83,\n",
       "              84,\n",
       "              85,\n",
       "              99,\n",
       "              100,\n",
       "              101,\n",
       "              115,\n",
       "              116,\n",
       "              117,\n",
       "              131,\n",
       "              132,\n",
       "              133,\n",
       "              147,\n",
       "              148,\n",
       "              149,\n",
       "              163,\n",
       "              164,\n",
       "              165,\n",
       "              179,\n",
       "              180,\n",
       "              181,\n",
       "              195,\n",
       "              196,\n",
       "              197,\n",
       "              211,\n",
       "              212,\n",
       "              213,\n",
       "              227,\n",
       "              228,\n",
       "              229,\n",
       "              243,\n",
       "              244,\n",
       "              245],\n",
       "             'SS2': [6,\n",
       "              7,\n",
       "              8,\n",
       "              22,\n",
       "              23,\n",
       "              24,\n",
       "              38,\n",
       "              39,\n",
       "              40,\n",
       "              54,\n",
       "              55,\n",
       "              56,\n",
       "              70,\n",
       "              71,\n",
       "              72,\n",
       "              86,\n",
       "              87,\n",
       "              88,\n",
       "              102,\n",
       "              103,\n",
       "              104,\n",
       "              118,\n",
       "              119,\n",
       "              120,\n",
       "              134,\n",
       "              135,\n",
       "              136,\n",
       "              150,\n",
       "              151,\n",
       "              152,\n",
       "              166,\n",
       "              167,\n",
       "              168,\n",
       "              182,\n",
       "              183,\n",
       "              184,\n",
       "              198,\n",
       "              199,\n",
       "              200,\n",
       "              214,\n",
       "              215,\n",
       "              216,\n",
       "              230,\n",
       "              231,\n",
       "              232,\n",
       "              246,\n",
       "              247,\n",
       "              248],\n",
       "             'L2': [9,\n",
       "              10,\n",
       "              11,\n",
       "              25,\n",
       "              26,\n",
       "              27,\n",
       "              41,\n",
       "              42,\n",
       "              43,\n",
       "              57,\n",
       "              58,\n",
       "              59,\n",
       "              73,\n",
       "              74,\n",
       "              75,\n",
       "              89,\n",
       "              90,\n",
       "              91,\n",
       "              105,\n",
       "              106,\n",
       "              107,\n",
       "              121,\n",
       "              122,\n",
       "              123,\n",
       "              137,\n",
       "              138,\n",
       "              139,\n",
       "              153,\n",
       "              154,\n",
       "              155,\n",
       "              169,\n",
       "              170,\n",
       "              171,\n",
       "              185,\n",
       "              186,\n",
       "              187,\n",
       "              201,\n",
       "              202,\n",
       "              203,\n",
       "              217,\n",
       "              218,\n",
       "              219,\n",
       "              233,\n",
       "              234,\n",
       "              235,\n",
       "              249,\n",
       "              250,\n",
       "              251],\n",
       "             'S': [12,\n",
       "              28,\n",
       "              44,\n",
       "              60,\n",
       "              76,\n",
       "              92,\n",
       "              108,\n",
       "              124,\n",
       "              140,\n",
       "              156,\n",
       "              172,\n",
       "              188,\n",
       "              204,\n",
       "              220,\n",
       "              236,\n",
       "              252],\n",
       "             'C': [13,\n",
       "              29,\n",
       "              45,\n",
       "              61,\n",
       "              77,\n",
       "              93,\n",
       "              109,\n",
       "              125,\n",
       "              141,\n",
       "              157,\n",
       "              173,\n",
       "              189,\n",
       "              205,\n",
       "              221,\n",
       "              237,\n",
       "              253],\n",
       "             'SS': [14,\n",
       "              30,\n",
       "              46,\n",
       "              62,\n",
       "              78,\n",
       "              94,\n",
       "              110,\n",
       "              126,\n",
       "              142,\n",
       "              158,\n",
       "              174,\n",
       "              190,\n",
       "              206,\n",
       "              222,\n",
       "              238,\n",
       "              254],\n",
       "             'L': [15,\n",
       "              31,\n",
       "              47,\n",
       "              63,\n",
       "              79,\n",
       "              95,\n",
       "              111,\n",
       "              127,\n",
       "              143,\n",
       "              159,\n",
       "              175,\n",
       "              191,\n",
       "              207,\n",
       "              223,\n",
       "              239,\n",
       "              255]})"
      ]
     },
     "execution_count": 9,
     "metadata": {},
     "output_type": "execute_result"
    }
   ],
   "source": [
    "classes = defaultdict(list)\n",
    "for i, y in enumerate(Y):\n",
    "    tag = y.split('_')[-1][:-1]\n",
    "    classes[tag].append(i)\n",
    "classes"
   ]
  },
  {
   "cell_type": "code",
   "execution_count": 10,
   "metadata": {},
   "outputs": [
    {
     "data": {
      "text/plain": [
       "{'C2X',\n",
       " 'C2Y',\n",
       " 'C2Z',\n",
       " 'L2X',\n",
       " 'L2Y',\n",
       " 'L2Z',\n",
       " 'S2X',\n",
       " 'S2Y',\n",
       " 'S2Z',\n",
       " 'SS2X',\n",
       " 'SS2Y',\n",
       " 'SS2Z'}"
      ]
     },
     "execution_count": 10,
     "metadata": {},
     "output_type": "execute_result"
    }
   ],
   "source": [
    "func_dirs = set([r['tag'] for r in results if r['tag'][-1] in ['X', 'Y', 'Z']])\n",
    "func_dirs"
   ]
  },
  {
   "cell_type": "code",
   "execution_count": 11,
   "metadata": {},
   "outputs": [
    {
     "data": {
      "text/plain": [
       "{'C2', 'L2', 'S2', 'SS2'}"
      ]
     },
     "execution_count": 11,
     "metadata": {},
     "output_type": "execute_result"
    }
   ],
   "source": [
    "funcs = set([r['tag'][:-1] for r in results if r['tag'][-1] in ['X', 'Y', 'Z']])\n",
    "funcs"
   ]
  },
  {
   "cell_type": "code",
   "execution_count": 12,
   "metadata": {},
   "outputs": [],
   "source": [
    "def make_data(results):\n",
    "    X, X_f, Y = [], [], []\n",
    "    for r in results:\n",
    "        X.append(np.array(r['x']).reshape(1, -1))\n",
    "        X_f.append(np.array(r['exp_data']).reshape(1, -1))\n",
    "        Y.append(r['dir_name'] + ' ' + r['tag'])\n",
    "    X = np.concatenate(X, axis=0)\n",
    "    X_f = np.concatenate(X_f, axis=0)\n",
    "    return X, X_f, Y"
   ]
  },
  {
   "cell_type": "code",
   "execution_count": 13,
   "metadata": {},
   "outputs": [],
   "source": [
    "def enumerate_stacks(Y):\n",
    "    unique_labels = set([y.split(' ')[0] for y in Y])\n",
    "    labels_map = {item: i + 1  for i, item in enumerate(sorted(unique_labels))}\n",
    "    labels, numbers = [], []\n",
    "    for y in Y:\n",
    "        if ' ' not in y:\n",
    "            stack, tag = y, ''\n",
    "        else:\n",
    "            stack, tag = y.split(' ', 1)\n",
    "        labels.append('{stack} {tag}'.format(stack=labels_map[stack], tag=tag))\n",
    "        numbers.append(labels_map[stack])\n",
    "    return labels, numbers"
   ]
  },
  {
   "cell_type": "code",
   "execution_count": 14,
   "metadata": {},
   "outputs": [],
   "source": [
    "from functools import cmp_to_key\n",
    "\n",
    "def order_stacks(X, X_f, Y):\n",
    "    def cmp(a, b):\n",
    "        a = a[-1]\n",
    "        b = b[-1]\n",
    "        a, aa = a.split(' ', 1)\n",
    "        a = int(a)\n",
    "        b, bb = b.split(' ', 1)\n",
    "        b = int(b)\n",
    "        if (a > b) or ((a == a) and (aa > bb)):\n",
    "            return 1\n",
    "        elif (a == b) and (aa == bb):\n",
    "            return 0\n",
    "        else:\n",
    "            return -1\n",
    "        \n",
    "    new_X, new_X_f, new_Y = [], [], []\n",
    "    for x, x_f, y in sorted(zip(X, X_f, Y), key=cmp_to_key(cmp)):\n",
    "#         print(x.shape)\n",
    "        new_X.append(x.reshape(1, -1))\n",
    "        new_X_f.append(x_f.reshape(1, -1))\n",
    "        new_Y.append(y)\n",
    "    return np.concatenate(new_X, axis=0), np.concatenate(new_X_f, axis=0), new_Y"
   ]
  },
  {
   "cell_type": "markdown",
   "metadata": {},
   "source": [
    "## Выбираем из данных фиксированную корр функцию, и для неё берём все образцы и все направления"
   ]
  },
  {
   "cell_type": "code",
   "execution_count": 15,
   "metadata": {},
   "outputs": [],
   "source": [
    "funcs = {('C2', '$C_{2}$'), \n",
    "         ('L2', '$L_{2}$'),\n",
    "         ('S2', '$S_{2}$'),\n",
    "         ('SS2', '$SS_{2}$')}"
   ]
  },
  {
   "cell_type": "code",
   "execution_count": 16,
   "metadata": {},
   "outputs": [],
   "source": [
    "def trunc_Y(Y, dirs=True):\n",
    "    if dirs:\n",
    "        dirs_map = {\n",
    "            'X': '$X$',\n",
    "            'Y': '$Y$',\n",
    "            'Z': '$Z$',\n",
    "        }\n",
    "    else:\n",
    "        dirs_map = {\n",
    "            'X': '',\n",
    "            'Y': '',\n",
    "            'Z': '',\n",
    "        }\n",
    "    new_Y = []\n",
    "    for y in Y:\n",
    "        y = y.replace(f, '')\n",
    "        for k, v in dirs_map.items():\n",
    "            y = y.replace(k, v)\n",
    "        new_Y.append(y)\n",
    "    return new_Y"
   ]
  },
  {
   "cell_type": "code",
   "execution_count": 17,
   "metadata": {},
   "outputs": [
    {
     "data": {
      "text/plain": [
       "{('C2X', '$C_{ 2X }$'),\n",
       " ('C2Y', '$C_{ 2Y }$'),\n",
       " ('C2Z', '$C_{ 2Z }$'),\n",
       " ('L2X', '$L_{ 2X }$'),\n",
       " ('L2Y', '$L_{ 2Y }$'),\n",
       " ('L2Z', '$L_{ 2Z }$'),\n",
       " ('S2X', '$S_{ 2X }$'),\n",
       " ('S2Y', '$S_{ 2Y }$'),\n",
       " ('S2Z', '$S_{ 2Z }$'),\n",
       " ('SS2X', '$SS_{ 2X }$'),\n",
       " ('SS2Y', '$SS_{ 2Y }$'),\n",
       " ('SS2Z', '$SS_{ 2Z }$')}"
      ]
     },
     "execution_count": 17,
     "metadata": {},
     "output_type": "execute_result"
    }
   ],
   "source": [
    "pairs = []\n",
    "for item in func_dirs:\n",
    "    pos = item.find('2')\n",
    "    s = '$' + item[:pos] + '_{{ {s} }}'.format(s=item[pos:]) + '$'\n",
    "    pairs.append((item, s))\n",
    "pairs = set(pairs)\n",
    "pairs"
   ]
  },
  {
   "cell_type": "code",
   "execution_count": 18,
   "metadata": {},
   "outputs": [],
   "source": [
    "def filter_stacks(results, tag, direction):\n",
    "    filtered = []\n",
    "    for item in results:\n",
    "            if (direction is None):\n",
    "                if tag == item['tag']: \n",
    "                    filtered.append(item)\n",
    "            elif (tag in item['tag']) and (direction in item['tag']):\n",
    "                 filtered.append(item)\n",
    "    return filtered"
   ]
  },
  {
   "cell_type": "code",
   "execution_count": 19,
   "metadata": {},
   "outputs": [],
   "source": [
    "direction = None\n",
    "tag = 'C2'\n",
    "filtered = []\n",
    "for item in results:\n",
    "        if (direction is None):\n",
    "            if tag == item['tag']: \n",
    "                filtered.append(item)\n",
    "        elif (tag in item['tag']) and (direction in item['tag']):\n",
    "             filtered.append(item)"
   ]
  },
  {
   "cell_type": "code",
   "execution_count": 20,
   "metadata": {},
   "outputs": [
    {
     "data": {
      "text/plain": [
       "16"
      ]
     },
     "execution_count": 20,
     "metadata": {},
     "output_type": "execute_result"
    }
   ],
   "source": [
    "len(filtered)"
   ]
  },
  {
   "cell_type": "code",
   "execution_count": null,
   "metadata": {},
   "outputs": [],
   "source": []
  },
  {
   "cell_type": "code",
   "execution_count": 37,
   "metadata": {},
   "outputs": [],
   "source": [
    "def extract_stacks(results, stack_number):\n",
    "    X, X_f, Y = make_data(results)\n",
    "    \n",
    "    X_norm = StandardScaler().fit_transform(X)\n",
    "    X_f_norm = StandardScaler().fit_transform(X_f)\n",
    "    pca = PCA(n_components=2, random_state=0)\n",
    "    X_embedded = pca.fit_transform(X_norm)\n",
    "    \n",
    "    _, numbers = enumerate_stacks(Y)\n",
    "    \n",
    "    for r, x, x_f, n in zip(results, X_norm, X_f_norm, numbers):\n",
    "        if n == stack_number:\n",
    "            r['x_norm'] = x\n",
    "            r['exp_data_norm'] = x_f\n",
    "            return r"
   ]
  },
  {
   "cell_type": "code",
   "execution_count": 38,
   "metadata": {},
   "outputs": [],
   "source": [
    "np.set_printoptions(precision=3, suppress=True)"
   ]
  },
  {
   "cell_type": "code",
   "execution_count": 71,
   "metadata": {},
   "outputs": [],
   "source": [
    "def dist(a, b):\n",
    "    return np.linalg.norm(a - b) / np.sqrt(a.shape[0])\n",
    "\n",
    "\n",
    "def compare(r, n1, n2):\n",
    "    a = extract_stacks(r, n1)\n",
    "    b = extract_stacks(r, n2)\n",
    "    print('Param distance: {}'.format(dist(a['x_norm'], b['x_norm'])))\n",
    "    plt.plot(np.arange(len(a['x'])), a['x_norm'])\n",
    "    plt.plot(np.arange(len(a['x'])), b['x_norm'])\n",
    "    plt.show()\n",
    "    print('Func distance : {}'.format(dist(a['exp_data_norm'], b['exp_data_norm'])))\n",
    "    plt.plot(np.arange(len(a['exp_data'])), a['exp_data'])\n",
    "    plt.plot(np.arange(len(a['exp_data'])), b['exp_data'])\n",
    "#     print('Func fitted distance : {}'.format(dist(a['fitted'], b['fitted'])))\n",
    "    plt.show()\n",
    "    plt.plot(np.arange(len(a['fitted'])), a['fitted'])\n",
    "    plt.plot(np.arange(len(a['fitted'])), b['fitted'])\n",
    "    plt.show()"
   ]
  },
  {
   "cell_type": "code",
   "execution_count": 76,
   "metadata": {},
   "outputs": [],
   "source": [
    "r = filter_stacks(results, tag='S2', direction=None)"
   ]
  },
  {
   "cell_type": "code",
   "execution_count": 77,
   "metadata": {},
   "outputs": [
    {
     "name": "stdout",
     "output_type": "stream",
     "text": [
      "Param distance: 1.7003268225158916\n"
     ]
    },
    {
     "data": {
      "image/png": "[encoded data removed]",
      "text/plain": [
       "<Figure size 432x288 with 1 Axes>"
      ]
     },
     "metadata": {
      "needs_background": "light"
     },
     "output_type": "display_data"
    },
    {
     "name": "stdout",
     "output_type": "stream",
     "text": [
      "Func distance : 0.304468222558068\n"
     ]
    },
    {
     "data": {
      "image/png": "[encoded data removed]",
      "text/plain": [
       "<Figure size 432x288 with 1 Axes>"
      ]
     },
     "metadata": {
      "needs_background": "light"
     },
     "output_type": "display_data"
    },
    {
     "data": {
      "image/png": "[encoded data removed]",
      "text/plain": [
       "<Figure size 432x288 with 1 Axes>"
      ]
     },
     "metadata": {
      "needs_background": "light"
     },
     "output_type": "display_data"
    }
   ],
   "source": [
    "compare(r, 4, 10)"
   ]
  },
  {
   "cell_type": "code",
   "execution_count": 78,
   "metadata": {},
   "outputs": [
    {
     "name": "stdout",
     "output_type": "stream",
     "text": [
      "Param distance: 0.6892753190548999\n"
     ]
    },
    {
     "data": {
      "image/png": "[encoded data removed]",
      "text/plain": [
       "<Figure size 432x288 with 1 Axes>"
      ]
     },
     "metadata": {
      "needs_background": "light"
     },
     "output_type": "display_data"
    },
    {
     "name": "stdout",
     "output_type": "stream",
     "text": [
      "Func distance : 0.334150419830874\n"
     ]
    },
    {
     "data": {
      "image/png": "[encoded data removed]",
      "text/plain": [
       "<Figure size 432x288 with 1 Axes>"
      ]
     },
     "metadata": {
      "needs_background": "light"
     },
     "output_type": "display_data"
    },
    {
     "data": {
      "image/png": "[encoded data removed]",
      "text/plain": [
       "<Figure size 432x288 with 1 Axes>"
      ]
     },
     "metadata": {
      "needs_background": "light"
     },
     "output_type": "display_data"
    }
   ],
   "source": [
    "compare(r, 12, 14)"
   ]
  },
  {
   "cell_type": "code",
   "execution_count": 72,
   "metadata": {
    "scrolled": true
   },
   "outputs": [],
   "source": [
    "r = filter_stacks(results, tag='C2', direction=None)"
   ]
  },
  {
   "cell_type": "code",
   "execution_count": 73,
   "metadata": {},
   "outputs": [
    {
     "name": "stdout",
     "output_type": "stream",
     "text": [
      "Param distance: 2.056966359746071\n"
     ]
    },
    {
     "data": {
      "image/png": "[encoded data removed]",
      "text/plain": [
       "<Figure size 432x288 with 1 Axes>"
      ]
     },
     "metadata": {
      "needs_background": "light"
     },
     "output_type": "display_data"
    },
    {
     "name": "stdout",
     "output_type": "stream",
     "text": [
      "Func distance : 0.5394242538520232\n"
     ]
    },
    {
     "data": {
      "image/png": "[encoded data removed]",
      "text/plain": [
       "<Figure size 432x288 with 1 Axes>"
      ]
     },
     "metadata": {
      "needs_background": "light"
     },
     "output_type": "display_data"
    },
    {
     "data": {
      "image/png": "[encoded data removed]",
      "text/plain": [
       "<Figure size 432x288 with 1 Axes>"
      ]
     },
     "metadata": {
      "needs_background": "light"
     },
     "output_type": "display_data"
    }
   ],
   "source": [
    "compare(r, 7, 10)"
   ]
  },
  {
   "cell_type": "code",
   "execution_count": 41,
   "metadata": {},
   "outputs": [],
   "source": [
    "a = extract_stacks(r, 7)\n",
    "b = extract_stacks(r, 10)"
   ]
  },
  {
   "cell_type": "code",
   "execution_count": 42,
   "metadata": {},
   "outputs": [
    {
     "data": {
      "text/plain": [
       "{'success': True,\n",
       " 'x0': [0.2254273522437333,\n",
       "  0.29452827839021134,\n",
       "  0.4800443693660553,\n",
       "  0.6001571320190953,\n",
       "  0.41722911896268133,\n",
       "  0.9152243984710625],\n",
       " 'x': [0.19429920531476866,\n",
       "  0.8057007946852314,\n",
       "  4.798653404432425e-18,\n",
       "  1413.2882457911135,\n",
       "  8.093683561784907,\n",
       "  0.9152243984710625],\n",
       " 'SSE': 0.003593747394806463,\n",
       " 'exp_data': [1.0,\n",
       "  0.9181112445038596,\n",
       "  0.8382512428784252,\n",
       "  0.7628175434804624,\n",
       "  0.6935530038399493,\n",
       "  0.6313269026464078,\n",
       "  0.5764844207952767,\n",
       "  0.5285667187998141,\n",
       "  0.48678903190909606,\n",
       "  0.4503831885334291,\n",
       "  0.4187282802140662,\n",
       "  0.391279610699254,\n",
       "  0.3675120211917156,\n",
       "  0.34691093266242057,\n",
       "  0.32903021758764533,\n",
       "  0.3134836861546275,\n",
       "  0.29993290650706944,\n",
       "  0.2881015863308464,\n",
       "  0.27775188242403936,\n",
       "  0.26867743018600654,\n",
       "  0.2607091880131087,\n",
       "  0.2536939631680248,\n",
       "  0.24750699089241532,\n",
       "  0.24202997122772846,\n",
       "  0.23716229322452312,\n",
       "  0.2328288041142879,\n",
       "  0.22896258188402674,\n",
       "  0.2255024528388221,\n",
       "  0.22240729043235127,\n",
       "  0.21962294895887496,\n",
       "  0.21710663725106677,\n",
       "  0.21481777045226566,\n",
       "  0.2127379160650537,\n",
       "  0.2108525843891598,\n",
       "  0.20913132720423008,\n",
       "  0.20756137299855784,\n",
       "  0.2061178600474461,\n",
       "  0.20478957571370604,\n",
       "  0.20355861078799314,\n",
       "  0.20241714811095124,\n",
       "  0.20135512259008206,\n",
       "  0.20035667166308618,\n",
       "  0.19940636203527204,\n",
       "  0.1985005013640243,\n",
       "  0.19764072569449012,\n",
       "  0.19682920284658156,\n",
       "  0.19605770986907708,\n",
       "  0.19532061667254894,\n",
       "  0.19462116771808005,\n",
       "  0.19395966628836941,\n",
       "  0.193331659762802,\n",
       "  0.19273919278872534,\n",
       "  0.19217729172248357,\n",
       "  0.19163915363893735,\n",
       "  0.19113339574058044,\n",
       "  0.19064916237567942,\n",
       "  0.1901853281241204,\n",
       "  0.18973616128817253,\n",
       "  0.189296309106566,\n",
       "  0.18886344506885744,\n",
       "  0.18844214549454633,\n",
       "  0.18802248153065615,\n",
       "  0.18761527170743866,\n",
       "  0.18721618118590158,\n",
       "  0.18681776425019384,\n",
       "  0.18641977353900505,\n",
       "  0.18601941616591705,\n",
       "  0.18561203725986358,\n",
       "  0.18521213798963046,\n",
       "  0.18482676139543452,\n",
       "  0.1844544347026507,\n",
       "  0.18409175536840933,\n",
       "  0.18374853650854697,\n",
       "  0.18342158060869462,\n",
       "  0.1831097420900877,\n",
       "  0.182803191658202,\n",
       "  0.18249446004581696,\n",
       "  0.1821900825350166,\n",
       "  0.18188916416307452,\n",
       "  0.18158937731986366,\n",
       "  0.18129533017378152,\n",
       "  0.18101066621494416,\n",
       "  0.1807412415602856,\n",
       "  0.18048798769551044,\n",
       "  0.1802481404908011,\n",
       "  0.18002387325693434,\n",
       "  0.1798111422789954,\n",
       "  0.17961373289829785,\n",
       "  0.17942858068979023,\n",
       "  0.1792457801245563,\n",
       "  0.1790646797058491,\n",
       "  0.17889002020968967,\n",
       "  0.17871995572252153,\n",
       "  0.17854705354703268,\n",
       "  0.1783802415224534,\n",
       "  0.1782290225148278,\n",
       "  0.1780877521441954,\n",
       "  0.1779553223692364,\n",
       "  0.17783885538304986,\n",
       "  0.17772999042503598,\n",
       "  0.17763541939913163,\n",
       "  0.17753938907661723,\n",
       "  0.17743695478858168,\n",
       "  0.1773216684567053,\n",
       "  0.17719349291213168,\n",
       "  0.17705458439026722,\n",
       "  0.17691191498920134,\n",
       "  0.17676577187493964,\n",
       "  0.17661574507125774,\n",
       "  0.17646726451939618,\n",
       "  0.17631658501325567,\n",
       "  0.17617257236615552,\n",
       "  0.17602412517061708,\n",
       "  0.17586508770123047,\n",
       "  0.17569683595048413,\n",
       "  0.17552259619880936,\n",
       "  0.17534153538700117,\n",
       "  0.17515584365446177,\n",
       "  0.1749739264286337,\n",
       "  0.17479034505426982,\n",
       "  0.17461424588195798,\n",
       "  0.17444607230433185,\n",
       "  0.17428143866420745,\n",
       "  0.1741314627828413,\n",
       "  0.17399578369507063,\n",
       "  0.17387260540088117,\n",
       "  0.17375912631424206,\n",
       "  0.1736578799556069,\n",
       "  0.17356769365004054,\n",
       "  0.17348587608666474,\n",
       "  0.1734075713585514,\n",
       "  0.173332295793764,\n",
       "  0.17325483210506046,\n",
       "  0.1731765045554171,\n",
       "  0.1731045450123414,\n",
       "  0.17303402480573446,\n",
       "  0.1729631798409436,\n",
       "  0.17289336163603958,\n",
       "  0.17282614606596985,\n",
       "  0.17276022906454966,\n",
       "  0.17268962128225582,\n",
       "  0.17260818826664714,\n",
       "  0.17251703445330044,\n",
       "  0.17241933769280793,\n",
       "  0.1723217610876672,\n",
       "  0.17222854456087194,\n",
       "  0.17214190270866422,\n",
       "  0.17205255026850091,\n",
       "  0.17195736968920108,\n",
       "  0.17186066456656132,\n",
       "  0.17176633948491268,\n",
       "  0.17168511963448346,\n",
       "  0.17160747919979677,\n",
       "  0.1715334457391987,\n",
       "  0.1714697914720914,\n",
       "  0.1714148671165981,\n",
       "  0.17136884685205792,\n",
       "  0.1713270631985791,\n",
       "  0.17128544193267717,\n",
       "  0.17125078354074647,\n",
       "  0.17121862820992056,\n",
       "  0.17118395570249204,\n",
       "  0.17114538412704244,\n",
       "  0.1710998127063197,\n",
       "  0.17106296742231236,\n",
       "  0.1710436632253929,\n",
       "  0.17103291506890386,\n",
       "  0.17102776252158763,\n",
       "  0.17102567411469494,\n",
       "  0.1710268115022359,\n",
       "  0.17103628841000115,\n",
       "  0.17105037373213985,\n",
       "  0.17106190245916134,\n",
       "  0.1710720344351258,\n",
       "  0.17107404410667626,\n",
       "  0.1710807822096087,\n",
       "  0.17108912237867227,\n",
       "  0.17110017310953282,\n",
       "  0.17110412113372536,\n",
       "  0.17109827332947056,\n",
       "  0.17106946203651055,\n",
       "  0.171021048543347,\n",
       "  0.17094752771031396,\n",
       "  0.17085490592640112,\n",
       "  0.17075280584256428,\n",
       "  0.17064774473607475,\n",
       "  0.17054586005170336,\n",
       "  0.17045051339188239,\n",
       "  0.1703743675415671,\n",
       "  0.17031769142327255,\n",
       "  0.17027527466702136,\n",
       "  0.17023735722918196,\n",
       "  0.17020790380446024,\n",
       "  0.17017741001100545,\n",
       "  0.17014548417794292,\n",
       "  0.17012167330450947,\n",
       "  0.17009854884346418,\n",
       "  0.17007385422419144,\n",
       "  0.1700417179826468,\n",
       "  0.17000881999580997,\n",
       "  0.16996717419421667,\n",
       "  0.1699193671151825,\n",
       "  0.16985752395987114,\n",
       "  0.16978570050264216,\n",
       "  0.16970333877272112,\n",
       "  0.16961679437403523,\n",
       "  0.16953158372407098,\n",
       "  0.1694469975078387,\n",
       "  0.1693613021323063,\n",
       "  0.1692722700959526,\n",
       "  0.16918443414951773,\n",
       "  0.16910923070910955,\n",
       "  0.16904573729391564,\n",
       "  0.16898766615454558,\n",
       "  0.16892698491161873,\n",
       "  0.16885399521151012,\n",
       "  0.1687698246214557,\n",
       "  0.16867674690791493,\n",
       "  0.16857994042362487,\n",
       "  0.16847944477381582,\n",
       "  0.1683727619343233,\n",
       "  0.1682580762249222,\n",
       "  0.16813803159558857,\n",
       "  0.1680268623563285,\n",
       "  0.16792711849264125,\n",
       "  0.1678419953364696,\n",
       "  0.16777131637120551,\n",
       "  0.16771268039785153,\n",
       "  0.16766793077251022,\n",
       "  0.16764509838814792,\n",
       "  0.16763777958123127,\n",
       "  0.167639249576012,\n",
       "  0.16763977272110844,\n",
       "  0.16763527644528506,\n",
       "  0.16762416661642066,\n",
       "  0.16760575619842993,\n",
       "  0.16758517523205924,\n",
       "  0.16756234854028584,\n",
       "  0.16753944750420635,\n",
       "  0.1675275499759589,\n",
       "  0.16752257406287424,\n",
       "  0.16752517155020735,\n",
       "  0.1675263393901388,\n",
       "  0.16752715509173338,\n",
       "  0.16753495445629457,\n",
       "  0.16754644038228014,\n",
       "  0.16755451800153628,\n",
       "  0.16755633931026276,\n",
       "  0.16755622512566237,\n",
       "  0.167545440237431],\n",
       " 'fitted': [1.0,\n",
       "  0.9062197342514762,\n",
       "  0.8233232342428276,\n",
       "  0.7500455420278217,\n",
       "  0.6852687197966473,\n",
       "  0.6280047624132538,\n",
       "  0.5773804959485371,\n",
       "  0.5326242313863645,\n",
       "  0.49305396950691255,\n",
       "  0.4580669766612347,\n",
       "  0.4271305721047839,\n",
       "  0.399773986076061,\n",
       "  0.3755811641726935,\n",
       "  0.3541844080412182,\n",
       "  0.33525875517974196,\n",
       "  0.31851701194984616,\n",
       "  0.3037053638782806,\n",
       "  0.29059949615275615,\n",
       "  0.2790011650143622,\n",
       "  0.26873516764100336,\n",
       "  0.25964666420710947,\n",
       "  0.25159881118781696,\n",
       "  0.24447066973313342,\n",
       "  0.23815535714198854,\n",
       "  0.2325584131818076,\n",
       "  0.2275963562831186,\n",
       "  0.2231954075409059,\n",
       "  0.2192903630193167,\n",
       "  0.21582359712311658,\n",
       "  0.2127441818026176,\n",
       "  0.21000710812929757,\n",
       "  0.20757259834404326,\n",
       "  0.20540549786280807,\n",
       "  0.20347473794660753,\n",
       "  0.20175286082286764,\n",
       "  0.2002155999996975,\n",
       "  0.1988415093582702,\n",
       "  0.19761163535406145,\n",
       "  0.1965092273166048,\n",
       "  0.19551948141975065,\n",
       "  0.19462931440906453,\n",
       "  0.19382716362783142,\n",
       "  0.1931028102851019,\n",
       "  0.1924472232644665,\n",
       "  0.19185242108620568,\n",
       "  0.19131134991293314,\n",
       "  0.19081777573407258,\n",
       "  0.19036618908122835,\n",
       "  0.18995172081804287,\n",
       "  0.18957006771740487,\n",
       "  0.18921742668847039,\n",
       "  0.1888904366481699,\n",
       "  0.1885861271487177,\n",
       "  0.18830187297590584,\n",
       "  0.18803535402422591,\n",
       "  0.1877845198355176,\n",
       "  0.18754755825912442,\n",
       "  0.1873228677545327,\n",
       "  0.18710903291314543,\n",
       "  0.1869048028250457,\n",
       "  0.1867090719600902,\n",
       "  0.18652086327110343,\n",
       "  0.1863393132609091,\n",
       "  0.1861636587849501,\n",
       "  0.18599322538777846,\n",
       "  0.18582741699514063,\n",
       "  0.18566570680410313,\n",
       "  0.18550762923197658,\n",
       "  0.18535277280097845,\n",
       "  0.18520077384987826,\n",
       "  0.1850513109765088,\n",
       "  0.18490410012619812,\n",
       "  0.1847588902510505,\n",
       "  0.18461545947372837,\n",
       "  0.18447361169710028,\n",
       "  0.18433317360793344,\n",
       "  0.18419399202883316,\n",
       "  0.1840559315779538,\n",
       "  0.18391887260071102,\n",
       "  0.1837827093418806,\n",
       "  0.1836473483301466,\n",
       "  0.18351270695040528,\n",
       "  0.18337871218200372,\n",
       "  0.18324529948362697,\n",
       "  0.1831124118077897,\n",
       "  0.18297999872986848,\n",
       "  0.1828480156783632,\n",
       "  0.18271642325462084,\n",
       "  0.18258518663162532,\n",
       "  0.18245427502266248,\n",
       "  0.1823236612117403,\n",
       "  0.18219332113858555,\n",
       "  0.18206323353187487,\n",
       "  0.1819333795850934,\n",
       "  0.18180374267006674,\n",
       "  0.18167430808378818,\n",
       "  0.18154506282467045,\n",
       "  0.1814159953948032,\n",
       "  0.18128709562519268,\n",
       "  0.18115835452131357,\n",
       "  0.18102976412661084,\n",
       "  0.18090131740186696,\n",
       "  0.18077300811858907,\n",
       "  0.18064483076478757,\n",
       "  0.1805167804617055,\n",
       "  0.1803888528902261,\n",
       "  0.18026104422583372,\n",
       "  0.18013335108113393,\n",
       "  0.18000577045505398,\n",
       "  0.1798782996879478,\n",
       "  0.17975093642191892,\n",
       "  0.1796236785657545,\n",
       "  0.17949652426393523,\n",
       "  0.17936947186924704,\n",
       "  0.17924251991857582,\n",
       "  0.1791156671115158,\n",
       "  0.1789889122914636,\n",
       "  0.17886225442891013,\n",
       "  0.17873569260667416,\n",
       "  0.1786092260068522,\n",
       "  0.178482853899285,\n",
       "  0.1783565756313647,\n",
       "  0.17823039061902646,\n",
       "  0.17810429833878744,\n",
       "  0.17797829832071047,\n",
       "  0.17785239014218615,\n",
       "  0.17772657342243703,\n",
       "  0.17760084781766114,\n",
       "  0.17747521301673944,\n",
       "  0.1773496687374424,\n",
       "  0.17722421472307756,\n",
       "  0.1770988507395265,\n",
       "  0.17697357657262636,\n",
       "  0.17684839202585567,\n",
       "  0.1767232969182889,\n",
       "  0.1765982910827893,\n",
       "  0.176473374364411,\n",
       "  0.17634854661898758,\n",
       "  0.17622380771188415,\n",
       "  0.1760991575168947,\n",
       "  0.1759745959152676,\n",
       "  0.17585012279484422,\n",
       "  0.1757257380492979,\n",
       "  0.17560144157746102,\n",
       "  0.1754772332827307,\n",
       "  0.17535311307254323,\n",
       "  0.1752290808579096,\n",
       "  0.17510513655300544,\n",
       "  0.17498128007480787,\n",
       "  0.17485751134277527,\n",
       "  0.1747338302785639,\n",
       "  0.1746102368057774,\n",
       "  0.17448673084974564,\n",
       "  0.17436331233732918,\n",
       "  0.17423998119674622,\n",
       "  0.17411673735742011,\n",
       "  0.1739935807498441,\n",
       "  0.1738705113054623,\n",
       "  0.17374752895656395,\n",
       "  0.17362463363619035,\n",
       "  0.17350182527805244,\n",
       "  0.17337910381645813,\n",
       "  0.17325646918624776,\n",
       "  0.17313392132273742,\n",
       "  0.1730114601616685,\n",
       "  0.17288908563916341,\n",
       "  0.17276679769168635,\n",
       "  0.17264459625600825,\n",
       "  0.17252248126917663,\n",
       "  0.1724004526684882,\n",
       "  0.17227851039146472,\n",
       "  0.17215665437583225,\n",
       "  0.172034884559502,\n",
       "  0.17191320088055403,\n",
       "  0.17179160327722262,\n",
       "  0.1716700916878832,\n",
       "  0.1715486660510409,\n",
       "  0.1714273263053207,\n",
       "  0.17130607238945822,\n",
       "  0.17118490424229185,\n",
       "  0.17106382180275595,\n",
       "  0.17094282500987446,\n",
       "  0.1708219138027555,\n",
       "  0.17070108812058662,\n",
       "  0.17058034790263052,\n",
       "  0.170459693088221,\n",
       "  0.17033912361676004,\n",
       "  0.17021863942771448,\n",
       "  0.17009824046061367,\n",
       "  0.16997792665504688,\n",
       "  0.16985769795066152,\n",
       "  0.16973755428716117,\n",
       "  0.16961749560430395,\n",
       "  0.16949752184190117,\n",
       "  0.16937763293981606,\n",
       "  0.1692578288379626,\n",
       "  0.1691381094763045,\n",
       "  0.1690184747948545,\n",
       "  0.1688989247336733,\n",
       "  0.16877945923286922,\n",
       "  0.16866007823259715,\n",
       "  0.1685407816730585,\n",
       "  0.1684215694945002,\n",
       "  0.16830244163721467,\n",
       "  0.1681833980415392,\n",
       "  0.16806443864785572,\n",
       "  0.1679455633965904,\n",
       "  0.1678267722282134,\n",
       "  0.1677080650832388,\n",
       "  0.167589441902224,\n",
       "  0.16747090262576986,\n",
       "  0.1673524471945204,\n",
       "  0.1672340755491626,\n",
       "  0.16711578763042623,\n",
       "  0.16699758337908388,\n",
       "  0.16687946273595067,\n",
       "  0.1667614256418842,\n",
       "  0.16664347203778446,\n",
       "  0.16652560186459373,\n",
       "  0.16640781506329644,\n",
       "  0.16629011157491919,\n",
       "  0.1661724913405306,\n",
       "  0.1660549543012413,\n",
       "  0.16593750039820376,\n",
       "  0.16582012957261238,\n",
       "  0.16570284176570335,\n",
       "  0.1655856369187545,\n",
       "  0.16546851497308548,\n",
       "  0.16535147587005758,\n",
       "  0.16523451955107357,\n",
       "  0.1651176459575779,\n",
       "  0.16500085503105646,\n",
       "  0.16488414671303667,\n",
       "  0.16476752094508737,\n",
       "  0.16465097766881873,\n",
       "  0.16453451682588233,\n",
       "  0.1644181383579711,\n",
       "  0.1643018422068193,\n",
       "  0.16418562831420222,\n",
       "  0.16406949662193665,\n",
       "  0.1639534470718804,\n",
       "  0.16383747960593242,\n",
       "  0.1637215941660329,\n",
       "  0.16360579069416312,\n",
       "  0.16349006913234515,\n",
       "  0.1633744294226425,\n",
       "  0.1632588715071593,\n",
       "  0.16314339532804084,\n",
       "  0.16302800082747337,\n",
       "  0.1629126879476839],\n",
       " 'tag': 'C2',\n",
       " 'dir_name': '14',\n",
       " 'x_norm': array([-0.307,  0.636, -1.592,  2.526, -1.195,  1.765]),\n",
       " 'exp_data_norm': array([ 0.   , -0.45 , -0.455, -0.477, -0.517, -0.563, -0.607, -0.645,\n",
       "        -0.677, -0.702, -0.72 , -0.732, -0.739, -0.74 , -0.737, -0.73 ,\n",
       "        -0.72 , -0.707, -0.692, -0.675, -0.657, -0.638, -0.617, -0.596,\n",
       "        -0.575, -0.553, -0.531, -0.509, -0.487, -0.466, -0.444, -0.423,\n",
       "        -0.403, -0.382, -0.363, -0.343, -0.325, -0.306, -0.288, -0.271,\n",
       "        -0.254, -0.237, -0.221, -0.206, -0.191, -0.176, -0.162, -0.149,\n",
       "        -0.135, -0.122, -0.11 , -0.097, -0.085, -0.073, -0.061, -0.05 ,\n",
       "        -0.038, -0.027, -0.017, -0.006,  0.004,  0.014,  0.023,  0.033,\n",
       "         0.041,  0.05 ,  0.058,  0.066,  0.074,  0.082,  0.089,  0.097,\n",
       "         0.104,  0.112,  0.119,  0.126,  0.133,  0.14 ,  0.147,  0.153,\n",
       "         0.159,  0.166,  0.172,  0.179,  0.185,  0.191,  0.198,  0.204,\n",
       "         0.21 ,  0.216,  0.222,  0.228,  0.234,  0.24 ,  0.246,  0.251,\n",
       "         0.257,  0.263,  0.269,  0.275,  0.281,  0.287,  0.293,  0.299,\n",
       "         0.304,  0.31 ,  0.315,  0.32 ,  0.325,  0.33 ,  0.335,  0.339,\n",
       "         0.344,  0.349,  0.353,  0.357,  0.361,  0.365,  0.369,  0.373,\n",
       "         0.377,  0.381,  0.384,  0.388,  0.392,  0.397,  0.401,  0.405,\n",
       "         0.409,  0.413,  0.418,  0.422,  0.426,  0.43 ,  0.434,  0.438,\n",
       "         0.442,  0.446,  0.45 ,  0.454,  0.458,  0.461,  0.465,  0.468,\n",
       "         0.471,  0.474,  0.478,  0.481,  0.484,  0.487,  0.49 ,  0.493,\n",
       "         0.496,  0.499,  0.503,  0.506,  0.51 ,  0.513,  0.517,  0.52 ,\n",
       "         0.524,  0.527,  0.53 ,  0.534,  0.537,  0.54 ,  0.544,  0.548,\n",
       "         0.551,  0.555,  0.559,  0.563,  0.566,  0.57 ,  0.574,  0.577,\n",
       "         0.581,  0.584,  0.588,  0.591,  0.594,  0.597,  0.599,  0.601,\n",
       "         0.603,  0.604,  0.606,  0.608,  0.61 ,  0.612,  0.614,  0.617,\n",
       "         0.619,  0.622,  0.624,  0.627,  0.63 ,  0.632,  0.634,  0.637,\n",
       "         0.639,  0.641,  0.643,  0.644,  0.646,  0.647,  0.649,  0.65 ,\n",
       "         0.651,  0.653,  0.654,  0.656,  0.658,  0.66 ,  0.662,  0.663,\n",
       "         0.665,  0.666,  0.668,  0.669,  0.67 ,  0.671,  0.671,  0.672,\n",
       "         0.673,  0.674,  0.676,  0.677,  0.679,  0.681,  0.683,  0.685,\n",
       "         0.688,  0.69 ,  0.692,  0.694,  0.696,  0.698,  0.7  ,  0.703,\n",
       "         0.705,  0.707,  0.71 ,  0.712,  0.715,  0.717,  0.719,  0.722,\n",
       "         0.724,  0.726])}"
      ]
     },
     "execution_count": 42,
     "metadata": {},
     "output_type": "execute_result"
    }
   ],
   "source": [
    "a"
   ]
  },
  {
   "cell_type": "code",
   "execution_count": 27,
   "metadata": {},
   "outputs": [
    {
     "data": {
      "text/plain": [
       "2.056966359746071"
      ]
     },
     "execution_count": 27,
     "metadata": {},
     "output_type": "execute_result"
    }
   ],
   "source": [
    "np.linalg.norm(a - b) / np.sqrt(a.shape[0])"
   ]
  },
  {
   "cell_type": "code",
   "execution_count": 29,
   "metadata": {},
   "outputs": [
    {
     "data": {
      "text/plain": [
       "0.5394242538520232"
      ]
     },
     "execution_count": 29,
     "metadata": {},
     "output_type": "execute_result"
    }
   ],
   "source": [
    "np.linalg.norm(a_f - b_f) / np.sqrt(a_f.shape[0])"
   ]
  },
  {
   "cell_type": "code",
   "execution_count": null,
   "metadata": {},
   "outputs": [],
   "source": []
  },
  {
   "cell_type": "code",
   "execution_count": null,
   "metadata": {},
   "outputs": [],
   "source": []
  },
  {
   "cell_type": "code",
   "execution_count": null,
   "metadata": {},
   "outputs": [],
   "source": [
    "tag = 'C2'\n",
    "direction = None\n",
    "stack_number = 7"
   ]
  },
  {
   "cell_type": "code",
   "execution_count": 18,
   "metadata": {},
   "outputs": [],
   "source": [
    "f = [item for item in results if ('C2' in item['tag']) and (item['tag'][-1] not in ['X', 'Y', 'Z'])]\n",
    "X, X_f, Y = make_data(f)\n",
    "Y = enumerate_stacks(Y)\n",
    "X, X_f, Y = order_stacks(X, X_f, Y)"
   ]
  },
  {
   "cell_type": "code",
   "execution_count": 20,
   "metadata": {},
   "outputs": [],
   "source": [
    "a = np.array(f[3]['x'])\n",
    "aa = np.array(f[3]['exp_data'])"
   ]
  },
  {
   "cell_type": "code",
   "execution_count": 28,
   "metadata": {},
   "outputs": [
    {
     "data": {
      "text/plain": [
       "{'a1': 0.7946345610785984,\n",
       " 'a2': 0.16534513747149943,\n",
       " 'a3': 0.04002003805569735,\n",
       " 'a': 11.01201859996968,\n",
       " 'b': 299.69171185510925,\n",
       " 'c': 0.9467985325246305}"
      ]
     },
     "execution_count": 28,
     "metadata": {},
     "output_type": "execute_result"
    }
   ],
   "source": [
    "unpack_standard(a)"
   ]
  },
  {
   "cell_type": "code",
   "execution_count": 29,
   "metadata": {},
   "outputs": [
    {
     "data": {
      "text/plain": [
       "{'a1': 0.23389588529921174,\n",
       " 'a2': 0.7156014936551383,\n",
       " 'a3': 0.05050261202489467,\n",
       " 'a': 420.61711941046644,\n",
       " 'b': 10.757609194678022,\n",
       " 'c': 0.735950942241519}"
      ]
     },
     "execution_count": 29,
     "metadata": {},
     "output_type": "execute_result"
    }
   ],
   "source": [
    "unpack_standard(b)"
   ]
  },
  {
   "cell_type": "code",
   "execution_count": 21,
   "metadata": {},
   "outputs": [],
   "source": [
    "b = np.array(f[7]['x'])\n",
    "bb = np.array(f[7]['exp_data'])"
   ]
  },
  {
   "cell_type": "code",
   "execution_count": 27,
   "metadata": {},
   "outputs": [],
   "source": [
    "from opt_utils import f_standard, unpack_standard"
   ]
  },
  {
   "cell_type": "code",
   "execution_count": 23,
   "metadata": {},
   "outputs": [],
   "source": [
    "one = f_standard(a, 250)\n",
    "another = f_standard(b, 250)\n",
    "i = np.arange(250)"
   ]
  },
  {
   "cell_type": "code",
   "execution_count": 25,
   "metadata": {},
   "outputs": [
    {
     "data": {
      "image/png": "[encoded data removed]",
      "text/plain": [
       "<Figure size 432x288 with 1 Axes>"
      ]
     },
     "metadata": {},
     "output_type": "display_data"
    }
   ],
   "source": [
    "plt.plot(i, aa)\n",
    "plt.plot(i, bb)\n",
    "plt.show()"
   ]
  },
  {
   "cell_type": "code",
   "execution_count": 24,
   "metadata": {},
   "outputs": [
    {
     "data": {
      "image/png": "[encoded data removed]",
      "text/plain": [
       "<Figure size 432x288 with 1 Axes>"
      ]
     },
     "metadata": {},
     "output_type": "display_data"
    }
   ],
   "source": [
    "plt.plot(i, one)\n",
    "plt.plot(i, another)\n",
    "plt.show()"
   ]
  }
 ],
 "metadata": {
  "kernelspec": {
   "display_name": "Python 3",
   "language": "python",
   "name": "python3"
  },
  "language_info": {
   "codemirror_mode": {
    "name": "ipython",
    "version": 3
   },
   "file_extension": ".py",
   "mimetype": "text/x-python",
   "name": "python",
   "nbconvert_exporter": "python",
   "pygments_lexer": "ipython3",
   "version": "3.6.9"
  }
 },
 "nbformat": 4,
 "nbformat_minor": 2
}
